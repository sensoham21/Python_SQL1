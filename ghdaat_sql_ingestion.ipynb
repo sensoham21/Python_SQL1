{
 "cells": [
  {
   "cell_type": "code",
   "execution_count": 1,
   "metadata": {},
   "outputs": [],
   "source": [
    "import pandas as pd\n",
    "import pyodbc\n",
    "import os\n",
    "from sqlalchemy import create_engine, MetaData, Table, select"
   ]
  },
  {
   "cell_type": "code",
   "execution_count": null,
   "metadata": {},
   "outputs": [],
   "source": []
  },
  {
   "cell_type": "code",
   "execution_count": 2,
   "metadata": {},
   "outputs": [],
   "source": [
    "# Getting dataframes, their file names and creating a database with the folder name\n",
    "def get_dataframes(path,server_name):\n",
    "    os.chdir(path)\n",
    "    file_names=[]\n",
    "    final_df_list=[]\n",
    "    folder_names = path.split(\"/\")\n",
    "    folder_name = folder_names[-1]\n",
    "    ServerName = str(server_name)\n",
    "    #DbName = str(db_name)\n",
    "    dbConn = pyodbc.connect(\"Driver={SQL Server Native Client 11.0};\"\n",
    "                      f'Server={ServerName};'\n",
    "                      \"Trusted_Connection=yes;\")\n",
    "    dbConn.autocommit = True\n",
    "    dbCursor = dbConn.cursor()\n",
    "    dbCursor.execute(\"CREATE DATABASE {}\".format(folder_name))\n",
    "    dbCursor.commit()\n",
    "    dbConn.close()\n",
    "    for p,n,f in os.walk(os.getcwd()):\n",
    "        for a in f:\n",
    "            a = str(a)\n",
    "            if a.endswith('.csv'):\n",
    "                file_names.append(a)\n",
    "                final_df = a+\"_df\"\n",
    "                #print(\"Dataframe name : \"+final_df)\n",
    "                filename = a\n",
    "                final_df = pd.read_csv(filename, error_bad_lines=False)\n",
    "                final_df_list.append(final_df)\n",
    "    #final_df_list.split(',')\n",
    "    return final_df_list, file_names, folder_name"
   ]
  },
  {
   "cell_type": "code",
   "execution_count": 4,
   "metadata": {},
   "outputs": [],
   "source": [
    "a,b, c = get_dataframes('C:/Users/senso/Downloads/test_folder4','MSI\\SQLEXPRESS')"
   ]
  },
  {
   "cell_type": "code",
   "execution_count": 5,
   "metadata": {},
   "outputs": [],
   "source": [
    "# Merging the filename and dataframe into a tuple\n",
    "def unpack_dfs_to_dict(a,b):\n",
    "    res = {} \n",
    "    for key in b:\n",
    "        key=key[:-4]\n",
    "        for value in a:\n",
    "            res[key] = value \n",
    "            a.remove(value) \n",
    "            break\n",
    "    return res"
   ]
  },
  {
   "cell_type": "code",
   "execution_count": 6,
   "metadata": {},
   "outputs": [],
   "source": [
    "x = unpack_dfs_to_dict(a,b)"
   ]
  },
  {
   "cell_type": "code",
   "execution_count": 7,
   "metadata": {},
   "outputs": [],
   "source": [
    "# Ingesting the data into the folder named database as separate tables\n",
    "def ingest_data(x,server_name,db_name):\n",
    "    ServerName = str(server_name)\n",
    "    DbName = str(db_name)\n",
    "    engine = create_engine('mssql+pyodbc://' + ServerName + '/' + DbName + \"?driver=SQL+Server\")\n",
    "    conn = engine.connect()\n",
    "    for i in x.keys():\n",
    "        TableName=i\n",
    "        metadata = MetaData(conn)\n",
    "        x[i].to_sql(TableName,engine,if_exists='replace',chunksize=500)\n",
    "    conn.close()"
   ]
  },
  {
   "cell_type": "code",
   "execution_count": 8,
   "metadata": {},
   "outputs": [],
   "source": [
    "ingest_data(x,'MSI\\SQLEXPRESS', c)"
   ]
  },
  {
   "cell_type": "code",
   "execution_count": 13,
   "metadata": {},
   "outputs": [],
   "source": [
    "# Importing the name of the tables and their descriptions and remarks given by the user into the master db\n",
    "def master_db_inputs(b,server_name,db_name):\n",
    "    ServerName = str(server_name)\n",
    "    DbName = str(db_name)\n",
    "    conn = pyodbc.connect(\"Driver={SQL Server Native Client 11.0};\"\n",
    "                          f'Server={ServerName};'\n",
    "                          f'Database={DbName};'\n",
    "                          \"Trusted_connection=yes;\")\n",
    "    conn.autocommit=True\n",
    "    cursor=conn.cursor()\n",
    "    for item in b:\n",
    "        item1=item[:-4]\n",
    "        description = input(\"Give a brief description of the table : \")\n",
    "        remarks = input(\"Provide some remarks : \")\n",
    "        #sql_query1 = \"INSERT INTO Table_info (Name_Db, Description_Db, Remarks_Db) \"\n",
    "        #sql_query2 = \"VALUES (\"\n",
    "        sql = \"INSERT INTO Table_info VALUES('{}', '{}', '{}');\".format(item1,description,remarks)\n",
    "        cursor.execute(sql)\n",
    "    conn.commit()\n",
    "    conn.close() "
   ]
  },
  {
   "cell_type": "code",
   "execution_count": 14,
   "metadata": {},
   "outputs": [
    {
     "name": "stdout",
     "output_type": "stream",
     "text": [
      "Give a brief description of the table : asddf\n",
      "Provide some remarks : asddd\n",
      "Give a brief description of the table : ffas\n",
      "Provide some remarks : sdffg\n"
     ]
    }
   ],
   "source": [
    "master_db_inputs(b,'MSI\\SQLEXPRESS','MasterDB')"
   ]
  },
  {
   "cell_type": "code",
   "execution_count": null,
   "metadata": {},
   "outputs": [],
   "source": []
  },
  {
   "cell_type": "code",
   "execution_count": null,
   "metadata": {},
   "outputs": [],
   "source": []
  },
  {
   "cell_type": "code",
   "execution_count": null,
   "metadata": {},
   "outputs": [],
   "source": []
  },
  {
   "cell_type": "code",
   "execution_count": null,
   "metadata": {},
   "outputs": [],
   "source": []
  },
  {
   "cell_type": "code",
   "execution_count": null,
   "metadata": {},
   "outputs": [],
   "source": []
  },
  {
   "cell_type": "code",
   "execution_count": null,
   "metadata": {},
   "outputs": [],
   "source": []
  },
  {
   "cell_type": "code",
   "execution_count": null,
   "metadata": {},
   "outputs": [],
   "source": []
  },
  {
   "cell_type": "code",
   "execution_count": null,
   "metadata": {},
   "outputs": [],
   "source": []
  }
 ],
 "metadata": {
  "kernelspec": {
   "display_name": "Python 3",
   "language": "python",
   "name": "python3"
  },
  "language_info": {
   "codemirror_mode": {
    "name": "ipython",
    "version": 3
   },
   "file_extension": ".py",
   "mimetype": "text/x-python",
   "name": "python",
   "nbconvert_exporter": "python",
   "pygments_lexer": "ipython3",
   "version": "3.7.3"
  }
 },
 "nbformat": 4,
 "nbformat_minor": 2
}
